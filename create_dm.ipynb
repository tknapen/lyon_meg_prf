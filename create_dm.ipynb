{
  "cells": [
    {
      "cell_type": "code",
      "source": [
        "import matplotlib.pyplot as plt\n",
        "import numpy as np\n",
        "import imageio\n",
        "import glob\n",
        "from skimage.filters import gaussian, median, sobel\n",
        "\n",
        "%matplotlib inline"
      ],
      "outputs": [],
      "execution_count": 4,
      "metadata": {
        "collapsed": false,
        "outputHidden": false,
        "inputHidden": false
      }
    },
    {
      "cell_type": "code",
      "source": [
        "filenames = glob.glob('/Users/knapen/Downloads/prf_lyon/code/mov/*.png')\n",
        "filenames = sorted(filenames)\n",
        "\n",
        "# vid = imageio.get_reader(filename,  'ffmpeg')\n",
        "imgs = np.array([imageio.imread(fn).sum(-1).T for fn in filenames])"
      ],
      "outputs": [],
      "execution_count": 10,
      "metadata": {
        "collapsed": false,
        "outputHidden": false,
        "inputHidden": false
      }
    },
    {
      "cell_type": "code",
      "source": [
        "imd.shape"
      ],
      "outputs": [
        {
          "output_type": "execute_result",
          "execution_count": 9,
          "data": {
            "text/plain": [
              "(190, 1920, 1200)"
            ]
          },
          "metadata": {}
        }
      ],
      "execution_count": 9,
      "metadata": {
        "collapsed": false,
        "outputHidden": false,
        "inputHidden": false
      }
    },
    {
      "cell_type": "code",
      "source": [
        "med_img = np.median(imgs,0)\n",
        "binarized_imgs = np.array([i!=med_img for i in imgs])\n",
        "plt.imshow(binarized_imgs[20])"
      ],
      "outputs": [
        {
          "output_type": "execute_result",
          "execution_count": 11,
          "data": {
            "text/plain": [
              "<matplotlib.image.AxesImage at 0x814e31550>"
            ]
          },
          "metadata": {}
        },
        {
          "output_type": "display_data",
          "data": {
            "text/plain": [
              "<Figure size 432x288 with 1 Axes>"
            ],
            "image/png": "[encoded data removed]"
          },
          "metadata": {
            "needs_background": "light"
          }
        }
      ],
      "execution_count": 11,
      "metadata": {
        "collapsed": false,
        "outputHidden": false,
        "inputHidden": false
      }
    },
    {
      "cell_type": "code",
      "source": [
        "sm_bin_imgs = np.array([gaussian(i, 50) for i in binarized_imgs])\n",
        "plt.imshow(sm_bin_imgs[20])"
      ],
      "outputs": [
        {
          "output_type": "execute_result",
          "execution_count": 12,
          "data": {
            "text/plain": [
              "<matplotlib.image.AxesImage at 0x92bb61860>"
            ]
          },
          "metadata": {}
        },
        {
          "output_type": "display_data",
          "data": {
            "text/plain": [
              "<Figure size 432x288 with 1 Axes>"
            ],
            "image/png": "[encoded data removed]"
          },
          "metadata": {
            "needs_background": "light"
          }
        }
      ],
      "execution_count": 12,
      "metadata": {
        "collapsed": false,
        "outputHidden": false,
        "inputHidden": false
      }
    },
    {
      "cell_type": "code",
      "source": [
        "bin_sm_bin_imgs = sm_bin_imgs > 0.5\n",
        "plt.imshow(bin_sm_bin_imgs[20,::20,::20])"
      ],
      "outputs": [
        {
          "output_type": "execute_result",
          "execution_count": 13,
          "data": {
            "text/plain": [
              "<matplotlib.image.AxesImage at 0x92c94e908>"
            ]
          },
          "metadata": {}
        },
        {
          "output_type": "display_data",
          "data": {
            "text/plain": [
              "<Figure size 432x288 with 1 Axes>"
            ],
            "image/png": "[encoded data removed]"
          },
          "metadata": {
            "needs_background": "light"
          }
        }
      ],
      "execution_count": 13,
      "metadata": {
        "collapsed": false,
        "outputHidden": false,
        "inputHidden": false
      }
    },
    {
      "cell_type": "code",
      "source": [
        "np.save('/Users/knapen/Downloads/prf_lyon/code/dm.npy', bin_sm_bin_imgs.astype(np.uint8))"
      ],
      "outputs": [],
      "execution_count": 14,
      "metadata": {}
    },
    {
      "cell_type": "code",
      "source": [
        "ssr = 10\n",
        "sub_sampled_dm = bin_sm_bin_imgs[:,::ssr,::ssr]\n",
        "sub_sampled_dm_out = np.zeros((sub_sampled_dm.shape[0],\n",
        "          sub_sampled_dm.shape[1],\n",
        "          sub_sampled_dm.shape[1]))\n",
        "border = int((sub_sampled_dm_out.shape[2] - sub_sampled_dm.shape[2])/2)\n",
        "sub_sampled_dm_out[:,:,border:border+sub_sampled_dm.shape[2]] = sub_sampled_dm"
      ],
      "outputs": [],
      "execution_count": 15,
      "metadata": {
        "collapsed": false,
        "outputHidden": false,
        "inputHidden": false
      }
    },
    {
      "cell_type": "code",
      "source": [
        "np.save('/Users/knapen/Downloads/prf_lyon/code/dm_out.npy', sub_sampled_dm_out.astype(np.uint8))"
      ],
      "outputs": [],
      "execution_count": 16,
      "metadata": {
        "collapsed": false,
        "outputHidden": false,
        "inputHidden": false
      }
    },
    {
      "cell_type": "code",
      "source": [
        "sub_sampled_dm_out.shape"
      ],
      "outputs": [
        {
          "output_type": "execute_result",
          "execution_count": 17,
          "data": {
            "text/plain": [
              "(190, 192, 192)"
            ]
          },
          "metadata": {}
        }
      ],
      "execution_count": 17,
      "metadata": {
        "collapsed": false,
        "outputHidden": false,
        "inputHidden": false
      }
    },
    {
      "cell_type": "code",
      "source": [],
      "outputs": [],
      "execution_count": null,
      "metadata": {
        "collapsed": false,
        "outputHidden": false,
        "inputHidden": false
      }
    }
  ],
  "metadata": {
    "kernel_info": {
      "name": "py36"
    },
    "language_info": {
      "name": "python",
      "version": "3.6.8",
      "mimetype": "text/x-python",
      "codemirror_mode": {
        "name": "ipython",
        "version": 3
      },
      "pygments_lexer": "ipython3",
      "nbconvert_exporter": "python",
      "file_extension": ".py"
    },
    "kernelspec": {
      "name": "py36",
      "language": "python",
      "display_name": "Python (py36)"
    },
    "nteract": {
      "version": "0.14.4"
    }
  },
  "nbformat": 4,
  "nbformat_minor": 4
}